{
 "cells": [
  {
   "cell_type": "markdown",
   "id": "4310336f",
   "metadata": {},
   "source": [
    "<b> The analysis calculates performance of a single stock and portfolio of stocks.<p>Tools used include <i>Pandas, Matplotlib, Numpy,</i> and historical market data from [Stooq](https://stooq.com/)."
   ]
  },
  {
   "cell_type": "code",
   "execution_count": 1,
   "id": "7597785b",
   "metadata": {},
   "outputs": [],
   "source": [
    "# load dependencies\n",
    "import pandas_datareader.data as web\n",
    "import pandas as pd\n",
    "import datetime as dt\n",
    "import numpy as np\n",
    "import matplotlib.pyplot as plt"
   ]
  },
  {
   "cell_type": "markdown",
   "id": "cb6ae4ab",
   "metadata": {},
   "source": [
    "# Measuring Return\n",
    "<p> Measuring the return of investment is one of the two characterisitics most important to financial investment. This is known at the <i>rate of return</i> and is essential in deciding which securities are best to invest in.\n",
    "<p>The first calculation below shows how to get the simple rate of return for a <i>single security</i>.\n",
    "<p>The second calculation shows how to find the simple rate of return for a <i>portfolio of securities</i>. "
   ]
  },
  {
   "cell_type": "markdown",
   "id": "a129d81e",
   "metadata": {},
   "source": [
    "### Getting the Simple Rate of Return for a Single Security"
   ]
  },
  {
   "cell_type": "code",
   "execution_count": 2,
   "id": "6eeb2d3c",
   "metadata": {
    "scrolled": true
   },
   "outputs": [],
   "source": [
    "# set data source as Stooq\n",
    "source = 'stooq'"
   ]
  },
  {
   "cell_type": "code",
   "execution_count": 3,
   "id": "1e0167fc",
   "metadata": {},
   "outputs": [],
   "source": [
    "# select stock and timeframe\n",
    "symbol = 'KO'\n",
    "date_start = dt.datetime(1995, 1, 1)\n",
    "date_end = dt.datetime(2015, 1, 1)"
   ]
  },
  {
   "cell_type": "code",
   "execution_count": 4,
   "id": "8742a168",
   "metadata": {},
   "outputs": [],
   "source": [
    "# get data using \"pandas-datareader\" package\n",
    "stooq_df = web.DataReader(symbol, data_source=source, start=date_start, end=date_end)"
   ]
  },
  {
   "cell_type": "code",
   "execution_count": 5,
   "id": "9bbb74bb",
   "metadata": {},
   "outputs": [
    {
     "data": {
      "text/html": [
       "<div>\n",
       "<style scoped>\n",
       "    .dataframe tbody tr th:only-of-type {\n",
       "        vertical-align: middle;\n",
       "    }\n",
       "\n",
       "    .dataframe tbody tr th {\n",
       "        vertical-align: top;\n",
       "    }\n",
       "\n",
       "    .dataframe thead th {\n",
       "        text-align: right;\n",
       "    }\n",
       "</style>\n",
       "<table border=\"1\" class=\"dataframe\">\n",
       "  <thead>\n",
       "    <tr style=\"text-align: right;\">\n",
       "      <th></th>\n",
       "      <th>Open</th>\n",
       "      <th>High</th>\n",
       "      <th>Low</th>\n",
       "      <th>Close</th>\n",
       "      <th>Volume</th>\n",
       "    </tr>\n",
       "    <tr>\n",
       "      <th>Date</th>\n",
       "      <th></th>\n",
       "      <th></th>\n",
       "      <th></th>\n",
       "      <th></th>\n",
       "      <th></th>\n",
       "    </tr>\n",
       "  </thead>\n",
       "  <tbody>\n",
       "    <tr>\n",
       "      <th>2014-12-31</th>\n",
       "      <td>33.1975</td>\n",
       "      <td>33.2122</td>\n",
       "      <td>32.6582</td>\n",
       "      <td>32.6582</td>\n",
       "      <td>1.211243e+07</td>\n",
       "    </tr>\n",
       "    <tr>\n",
       "      <th>2014-12-30</th>\n",
       "      <td>33.0605</td>\n",
       "      <td>33.2523</td>\n",
       "      <td>32.9910</td>\n",
       "      <td>33.0761</td>\n",
       "      <td>1.192239e+07</td>\n",
       "    </tr>\n",
       "    <tr>\n",
       "      <th>2014-12-29</th>\n",
       "      <td>33.1211</td>\n",
       "      <td>33.3061</td>\n",
       "      <td>32.8667</td>\n",
       "      <td>33.1525</td>\n",
       "      <td>1.124041e+07</td>\n",
       "    </tr>\n",
       "    <tr>\n",
       "      <th>2014-12-26</th>\n",
       "      <td>33.2367</td>\n",
       "      <td>33.4960</td>\n",
       "      <td>33.2033</td>\n",
       "      <td>33.2278</td>\n",
       "      <td>8.360492e+06</td>\n",
       "    </tr>\n",
       "    <tr>\n",
       "      <th>2014-12-24</th>\n",
       "      <td>33.3355</td>\n",
       "      <td>33.4373</td>\n",
       "      <td>33.1975</td>\n",
       "      <td>33.2122</td>\n",
       "      <td>8.281666e+06</td>\n",
       "    </tr>\n",
       "  </tbody>\n",
       "</table>\n",
       "</div>"
      ],
      "text/plain": [
       "               Open     High      Low    Close        Volume\n",
       "Date                                                        \n",
       "2014-12-31  33.1975  33.2122  32.6582  32.6582  1.211243e+07\n",
       "2014-12-30  33.0605  33.2523  32.9910  33.0761  1.192239e+07\n",
       "2014-12-29  33.1211  33.3061  32.8667  33.1525  1.124041e+07\n",
       "2014-12-26  33.2367  33.4960  33.2033  33.2278  8.360492e+06\n",
       "2014-12-24  33.3355  33.4373  33.1975  33.2122  8.281666e+06"
      ]
     },
     "execution_count": 5,
     "metadata": {},
     "output_type": "execute_result"
    }
   ],
   "source": [
    "# check data\n",
    "stooq_df.head()"
   ]
  },
  {
   "cell_type": "code",
   "execution_count": 6,
   "id": "bfdfe4e7",
   "metadata": {},
   "outputs": [
    {
     "data": {
      "text/plain": [
       "Date\n",
       "2014-12-31         NaN\n",
       "2014-12-30    0.012796\n",
       "2014-12-29    0.002310\n",
       "2014-12-26    0.002271\n",
       "2014-12-24   -0.000469\n",
       "Name: Simple_Return, dtype: float64"
      ]
     },
     "execution_count": 6,
     "metadata": {},
     "output_type": "execute_result"
    }
   ],
   "source": [
    "# calculate simple returns data for the selected stock\n",
    "stooq_df['Simple_Return'] = pd.DataFrame((stooq_df['Close']/stooq_df['Close'].shift(1)) - 1)\n",
    "stooq_df['Simple_Return'].head()"
   ]
  },
  {
   "cell_type": "code",
   "execution_count": 7,
   "id": "843cdfd0",
   "metadata": {},
   "outputs": [
    {
     "data": {
      "image/png": "[encoded data removed]",
      "text/plain": [
       "<Figure size 1080x432 with 1 Axes>"
      ]
     },
     "metadata": {
      "needs_background": "light"
     },
     "output_type": "display_data"
    }
   ],
   "source": [
    "# plot simple returns data\n",
    "stooq_df['Simple_Return'].plot(figsize=(15 , 6))\n",
    "# style line chart\n",
    "plt.title('Simple Rate of Return for Coca-Cola (' + symbol + ')')\n",
    "plt.xlabel('Years')\n",
    "plt.ylabel('Rate of Return')\n",
    "plt.show()"
   ]
  },
  {
   "cell_type": "code",
   "execution_count": 8,
   "id": "45a38cca",
   "metadata": {},
   "outputs": [
    {
     "name": "stdout",
     "output_type": "stream",
     "text": [
      "Stock Ticker: KO | Mean Simple RoR: -3.737 %\n"
     ]
    }
   ],
   "source": [
    "# calculate the mean simple return\n",
    "avg_simple_return = stooq_df['Simple_Return'].mean() * 250\n",
    "\n",
    "print(f'Stock Ticker: {symbol} | Mean Simple RoR: {str(round(avg_simple_return, 5) * 100)} %')"
   ]
  },
  {
   "cell_type": "markdown",
   "id": "c56630b9",
   "metadata": {},
   "source": [
    "##### Simple Rate of Return for Single Stock - Analysis\n",
    "\n",
    "The simple rate of return for Coca-Cola between the years 1995 and 2014 is <i>-3.737%<i>."
   ]
  },
  {
   "cell_type": "markdown",
   "id": "10550aa8",
   "metadata": {},
   "source": [
    "### Getting the Simple Rate of Return for a Portfolio of Securities"
   ]
  },
  {
   "cell_type": "code",
   "execution_count": 9,
   "id": "5859ca0d",
   "metadata": {},
   "outputs": [],
   "source": [
    "# select stocks and timeframe\n",
    "tickers = ['KO', 'PG', 'GE', 'WMT', 'T']\n",
    "portfolio_df = pd.DataFrame()\n",
    "for i in tickers:\n",
    "    portfolio_df[i] = web.DataReader(i, data_source=source, start=date_start, end=date_end)['Close']"
   ]
  },
  {
   "cell_type": "code",
   "execution_count": 10,
   "id": "f57b7177",
   "metadata": {},
   "outputs": [
    {
     "data": {
      "text/html": [
       "<div>\n",
       "<style scoped>\n",
       "    .dataframe tbody tr th:only-of-type {\n",
       "        vertical-align: middle;\n",
       "    }\n",
       "\n",
       "    .dataframe tbody tr th {\n",
       "        vertical-align: top;\n",
       "    }\n",
       "\n",
       "    .dataframe thead th {\n",
       "        text-align: right;\n",
       "    }\n",
       "</style>\n",
       "<table border=\"1\" class=\"dataframe\">\n",
       "  <thead>\n",
       "    <tr style=\"text-align: right;\">\n",
       "      <th></th>\n",
       "      <th>KO</th>\n",
       "      <th>PG</th>\n",
       "      <th>GE</th>\n",
       "      <th>WMT</th>\n",
       "      <th>T</th>\n",
       "    </tr>\n",
       "    <tr>\n",
       "      <th>Date</th>\n",
       "      <th></th>\n",
       "      <th></th>\n",
       "      <th></th>\n",
       "      <th></th>\n",
       "      <th></th>\n",
       "    </tr>\n",
       "  </thead>\n",
       "  <tbody>\n",
       "    <tr>\n",
       "      <th>2014-12-31</th>\n",
       "      <td>32.6582</td>\n",
       "      <td>72.2498</td>\n",
       "      <td>175.333</td>\n",
       "      <td>72.2359</td>\n",
       "      <td>15.7509</td>\n",
       "    </tr>\n",
       "    <tr>\n",
       "      <th>2014-12-30</th>\n",
       "      <td>33.0761</td>\n",
       "      <td>73.2907</td>\n",
       "      <td>177.417</td>\n",
       "      <td>73.0007</td>\n",
       "      <td>15.9801</td>\n",
       "    </tr>\n",
       "    <tr>\n",
       "      <th>2014-12-29</th>\n",
       "      <td>33.1525</td>\n",
       "      <td>73.4811</td>\n",
       "      <td>178.324</td>\n",
       "      <td>72.8767</td>\n",
       "      <td>15.9939</td>\n",
       "    </tr>\n",
       "    <tr>\n",
       "      <th>2014-12-26</th>\n",
       "      <td>33.2278</td>\n",
       "      <td>74.1322</td>\n",
       "      <td>178.871</td>\n",
       "      <td>73.1018</td>\n",
       "      <td>16.0232</td>\n",
       "    </tr>\n",
       "    <tr>\n",
       "      <th>2014-12-24</th>\n",
       "      <td>33.2122</td>\n",
       "      <td>73.8787</td>\n",
       "      <td>179.210</td>\n",
       "      <td>72.7001</td>\n",
       "      <td>15.9237</td>\n",
       "    </tr>\n",
       "  </tbody>\n",
       "</table>\n",
       "</div>"
      ],
      "text/plain": [
       "                 KO       PG       GE      WMT        T\n",
       "Date                                                   \n",
       "2014-12-31  32.6582  72.2498  175.333  72.2359  15.7509\n",
       "2014-12-30  33.0761  73.2907  177.417  73.0007  15.9801\n",
       "2014-12-29  33.1525  73.4811  178.324  72.8767  15.9939\n",
       "2014-12-26  33.2278  74.1322  178.871  73.1018  16.0232\n",
       "2014-12-24  33.2122  73.8787  179.210  72.7001  15.9237"
      ]
     },
     "execution_count": 10,
     "metadata": {},
     "output_type": "execute_result"
    }
   ],
   "source": [
    "# check dataframe of portfolio\n",
    "portfolio_df.head()"
   ]
  },
  {
   "cell_type": "code",
   "execution_count": 11,
   "id": "e20e2950",
   "metadata": {},
   "outputs": [
    {
     "data": {
      "image/png": "[encoded data removed]",
      "text/plain": [
       "<Figure size 1080x432 with 1 Axes>"
      ]
     },
     "metadata": {
      "needs_background": "light"
     },
     "output_type": "display_data"
    }
   ],
   "source": [
    "# normalize the historical closing data to 100...\n",
    "(portfolio_df / portfolio_df.iloc[0] * 100).plot(figsize = (15 , 6))\n",
    "\n",
    "# then visualize the data\n",
    "plt.title('Closing Prices for Portfolio')\n",
    "plt.xlabel('Year')\n",
    "plt.ylabel('Closing')\n",
    "plt.show()"
   ]
  },
  {
   "cell_type": "code",
   "execution_count": 12,
   "id": "515b2763",
   "metadata": {},
   "outputs": [
    {
     "data": {
      "text/html": [
       "<div>\n",
       "<style scoped>\n",
       "    .dataframe tbody tr th:only-of-type {\n",
       "        vertical-align: middle;\n",
       "    }\n",
       "\n",
       "    .dataframe tbody tr th {\n",
       "        vertical-align: top;\n",
       "    }\n",
       "\n",
       "    .dataframe thead th {\n",
       "        text-align: right;\n",
       "    }\n",
       "</style>\n",
       "<table border=\"1\" class=\"dataframe\">\n",
       "  <thead>\n",
       "    <tr style=\"text-align: right;\">\n",
       "      <th></th>\n",
       "      <th>KO</th>\n",
       "      <th>PG</th>\n",
       "      <th>GE</th>\n",
       "      <th>WMT</th>\n",
       "      <th>T</th>\n",
       "    </tr>\n",
       "    <tr>\n",
       "      <th>Date</th>\n",
       "      <th></th>\n",
       "      <th></th>\n",
       "      <th></th>\n",
       "      <th></th>\n",
       "      <th></th>\n",
       "    </tr>\n",
       "  </thead>\n",
       "  <tbody>\n",
       "    <tr>\n",
       "      <th>2014-12-31</th>\n",
       "      <td>NaN</td>\n",
       "      <td>NaN</td>\n",
       "      <td>NaN</td>\n",
       "      <td>NaN</td>\n",
       "      <td>NaN</td>\n",
       "    </tr>\n",
       "    <tr>\n",
       "      <th>2014-12-30</th>\n",
       "      <td>0.012796</td>\n",
       "      <td>0.014407</td>\n",
       "      <td>0.011886</td>\n",
       "      <td>0.010588</td>\n",
       "      <td>0.014552</td>\n",
       "    </tr>\n",
       "    <tr>\n",
       "      <th>2014-12-29</th>\n",
       "      <td>0.002310</td>\n",
       "      <td>0.002598</td>\n",
       "      <td>0.005112</td>\n",
       "      <td>-0.001699</td>\n",
       "      <td>0.000864</td>\n",
       "    </tr>\n",
       "    <tr>\n",
       "      <th>2014-12-26</th>\n",
       "      <td>0.002271</td>\n",
       "      <td>0.008861</td>\n",
       "      <td>0.003067</td>\n",
       "      <td>0.003089</td>\n",
       "      <td>0.001832</td>\n",
       "    </tr>\n",
       "    <tr>\n",
       "      <th>2014-12-24</th>\n",
       "      <td>-0.000469</td>\n",
       "      <td>-0.003420</td>\n",
       "      <td>0.001895</td>\n",
       "      <td>-0.005495</td>\n",
       "      <td>-0.006210</td>\n",
       "    </tr>\n",
       "  </tbody>\n",
       "</table>\n",
       "</div>"
      ],
      "text/plain": [
       "                  KO        PG        GE       WMT         T\n",
       "Date                                                        \n",
       "2014-12-31       NaN       NaN       NaN       NaN       NaN\n",
       "2014-12-30  0.012796  0.014407  0.011886  0.010588  0.014552\n",
       "2014-12-29  0.002310  0.002598  0.005112 -0.001699  0.000864\n",
       "2014-12-26  0.002271  0.008861  0.003067  0.003089  0.001832\n",
       "2014-12-24 -0.000469 -0.003420  0.001895 -0.005495 -0.006210"
      ]
     },
     "execution_count": 12,
     "metadata": {},
     "output_type": "execute_result"
    }
   ],
   "source": [
    "# calculate the rate of return for each security\n",
    "portfolio_simple_return = (portfolio_df/portfolio_df.shift(1)) - 1\n",
    "portfolio_simple_return.head()"
   ]
  },
  {
   "cell_type": "code",
   "execution_count": 13,
   "id": "24ebb92e",
   "metadata": {},
   "outputs": [],
   "source": [
    "# assign weights for each stock respective to postion in \"tickers\" list\n",
    "weights = np.array([0.1, 0.1, 0.1, 0.4, 0.3])"
   ]
  },
  {
   "cell_type": "code",
   "execution_count": 14,
   "id": "ae68c180",
   "metadata": {},
   "outputs": [
    {
     "name": "stdout",
     "output_type": "stream",
     "text": [
      "Portfolio: ['KO', 'PG', 'GE', 'WMT', 'T'] | Mean Simple RoR: -4.979 %\n"
     ]
    }
   ],
   "source": [
    "# calculate overall portfolio return\n",
    "annual_returns = portfolio_simple_return.mean() * 250\n",
    "portfolio_return = np.dot(annual_returns, weights)\n",
    "\n",
    "print(f'Portfolio: {tickers} | Mean Simple RoR: {str(round(portfolio_return, 5) * 100)} %')"
   ]
  },
  {
   "cell_type": "markdown",
   "id": "f99af999",
   "metadata": {},
   "source": [
    "##### Simple Rate of Return for Portfolio - Analysis\n",
    "\n",
    "<p>The simple rate of return for the given portfolio between the years 1995 and 2014 is <i>-4.979%</i>.\n",
    "\n",
    "<p>The portfolio is comprised of Coca-Cola (10%), Proctor & Gamble (10%), General Electric (10%), Wal-Mart (40%), and AT&T (30%)."
   ]
  },
  {
   "cell_type": "markdown",
   "id": "195285d5",
   "metadata": {},
   "source": [
    "# Measuring Risk\n",
    "\n",
    "<p> Measuring risk is the second most important characteristic for financial investment. Knowing the risk of securities provides a better understanding for the quality of the rate of return for securities as well as it's performance in a portfolio. <p><i>The main measure for a single stock's risk is the variance - or dispersion of prices</i> - of historical data for a given security. A security with a higher rate of return BUT with a higher variance of prices can be described as \"risky\". <p><i>Covariance is a measure of the relationship between stocks within a portfolio.</i> If it is positive, then the stocks generally move together in a similar direction. If it is negative, then the stocks generally move away from each other in an inverse direction."
   ]
  },
  {
   "cell_type": "markdown",
   "id": "e4fd445c",
   "metadata": {},
   "source": [
    "### Calculating Single Stock Risk"
   ]
  },
  {
   "cell_type": "code",
   "execution_count": 15,
   "id": "7b6a4c57",
   "metadata": {},
   "outputs": [],
   "source": [
    "# get data using \"pandas-datareader\" package\n",
    "stooq_df = web.DataReader(symbol, data_source=source, start=date_start, end=date_end)"
   ]
  },
  {
   "cell_type": "code",
   "execution_count": 16,
   "id": "28586713",
   "metadata": {},
   "outputs": [
    {
     "data": {
      "text/html": [
       "<div>\n",
       "<style scoped>\n",
       "    .dataframe tbody tr th:only-of-type {\n",
       "        vertical-align: middle;\n",
       "    }\n",
       "\n",
       "    .dataframe tbody tr th {\n",
       "        vertical-align: top;\n",
       "    }\n",
       "\n",
       "    .dataframe thead th {\n",
       "        text-align: right;\n",
       "    }\n",
       "</style>\n",
       "<table border=\"1\" class=\"dataframe\">\n",
       "  <thead>\n",
       "    <tr style=\"text-align: right;\">\n",
       "      <th></th>\n",
       "      <th>Open</th>\n",
       "      <th>High</th>\n",
       "      <th>Low</th>\n",
       "      <th>Close</th>\n",
       "      <th>Volume</th>\n",
       "    </tr>\n",
       "    <tr>\n",
       "      <th>Date</th>\n",
       "      <th></th>\n",
       "      <th></th>\n",
       "      <th></th>\n",
       "      <th></th>\n",
       "      <th></th>\n",
       "    </tr>\n",
       "  </thead>\n",
       "  <tbody>\n",
       "    <tr>\n",
       "      <th>2014-12-31</th>\n",
       "      <td>33.1975</td>\n",
       "      <td>33.2122</td>\n",
       "      <td>32.6582</td>\n",
       "      <td>32.6582</td>\n",
       "      <td>1.211243e+07</td>\n",
       "    </tr>\n",
       "    <tr>\n",
       "      <th>2014-12-30</th>\n",
       "      <td>33.0605</td>\n",
       "      <td>33.2523</td>\n",
       "      <td>32.9910</td>\n",
       "      <td>33.0761</td>\n",
       "      <td>1.192239e+07</td>\n",
       "    </tr>\n",
       "    <tr>\n",
       "      <th>2014-12-29</th>\n",
       "      <td>33.1211</td>\n",
       "      <td>33.3061</td>\n",
       "      <td>32.8667</td>\n",
       "      <td>33.1525</td>\n",
       "      <td>1.124041e+07</td>\n",
       "    </tr>\n",
       "    <tr>\n",
       "      <th>2014-12-26</th>\n",
       "      <td>33.2367</td>\n",
       "      <td>33.4960</td>\n",
       "      <td>33.2033</td>\n",
       "      <td>33.2278</td>\n",
       "      <td>8.360492e+06</td>\n",
       "    </tr>\n",
       "    <tr>\n",
       "      <th>2014-12-24</th>\n",
       "      <td>33.3355</td>\n",
       "      <td>33.4373</td>\n",
       "      <td>33.1975</td>\n",
       "      <td>33.2122</td>\n",
       "      <td>8.281666e+06</td>\n",
       "    </tr>\n",
       "  </tbody>\n",
       "</table>\n",
       "</div>"
      ],
      "text/plain": [
       "               Open     High      Low    Close        Volume\n",
       "Date                                                        \n",
       "2014-12-31  33.1975  33.2122  32.6582  32.6582  1.211243e+07\n",
       "2014-12-30  33.0605  33.2523  32.9910  33.0761  1.192239e+07\n",
       "2014-12-29  33.1211  33.3061  32.8667  33.1525  1.124041e+07\n",
       "2014-12-26  33.2367  33.4960  33.2033  33.2278  8.360492e+06\n",
       "2014-12-24  33.3355  33.4373  33.1975  33.2122  8.281666e+06"
      ]
     },
     "execution_count": 16,
     "metadata": {},
     "output_type": "execute_result"
    }
   ],
   "source": [
    "stooq_df.head()"
   ]
  },
  {
   "cell_type": "code",
   "execution_count": 17,
   "id": "298064b4",
   "metadata": {},
   "outputs": [
    {
     "data": {
      "text/plain": [
       "Date\n",
       "2014-12-31         NaN\n",
       "2014-12-30    0.012796\n",
       "2014-12-29    0.002310\n",
       "2014-12-26    0.002271\n",
       "2014-12-24   -0.000469\n",
       "Name: Simple_Return, dtype: float64"
      ]
     },
     "execution_count": 17,
     "metadata": {},
     "output_type": "execute_result"
    }
   ],
   "source": [
    "# calculate the simple rate of returns\n",
    "stooq_df['Simple_Return'] = pd.DataFrame((stooq_df['Close']/stooq_df['Close'].shift(1)) - 1)\n",
    "stooq_df['Simple_Return'].head()"
   ]
  },
  {
   "cell_type": "code",
   "execution_count": 18,
   "id": "2e5cf988",
   "metadata": {},
   "outputs": [
    {
     "name": "stdout",
     "output_type": "stream",
     "text": [
      "Stock: KO | Variance: 5.41 %\n"
     ]
    }
   ],
   "source": [
    "# calculate the variance from the derived rate of returns...\n",
    "security_variance = (np.std(stooq_df['Simple_Return']) ** 2) * 250\n",
    "\n",
    "# then print results\n",
    "print(f'Stock: {symbol} | Variance: {str(round(security_variance, 5) * 100)} %')"
   ]
  },
  {
   "cell_type": "markdown",
   "id": "b0eeb33c",
   "metadata": {},
   "source": [
    "##### Variance for Single Stock - Analysis\n",
    "\n",
    "The variance for Coca-Cola between the years 1995 and 2014 is <i>5.75%<i>."
   ]
  },
  {
   "cell_type": "markdown",
   "id": "5093f0ce",
   "metadata": {},
   "source": [
    "### Calculating Portfolio Risk"
   ]
  },
  {
   "cell_type": "code",
   "execution_count": 19,
   "id": "f7b8ea04",
   "metadata": {},
   "outputs": [
    {
     "data": {
      "text/html": [
       "<div>\n",
       "<style scoped>\n",
       "    .dataframe tbody tr th:only-of-type {\n",
       "        vertical-align: middle;\n",
       "    }\n",
       "\n",
       "    .dataframe tbody tr th {\n",
       "        vertical-align: top;\n",
       "    }\n",
       "\n",
       "    .dataframe thead th {\n",
       "        text-align: right;\n",
       "    }\n",
       "</style>\n",
       "<table border=\"1\" class=\"dataframe\">\n",
       "  <thead>\n",
       "    <tr style=\"text-align: right;\">\n",
       "      <th></th>\n",
       "      <th>KO</th>\n",
       "      <th>PG</th>\n",
       "      <th>GE</th>\n",
       "      <th>WMT</th>\n",
       "      <th>T</th>\n",
       "    </tr>\n",
       "    <tr>\n",
       "      <th>Date</th>\n",
       "      <th></th>\n",
       "      <th></th>\n",
       "      <th></th>\n",
       "      <th></th>\n",
       "      <th></th>\n",
       "    </tr>\n",
       "  </thead>\n",
       "  <tbody>\n",
       "    <tr>\n",
       "      <th>2014-12-31</th>\n",
       "      <td>NaN</td>\n",
       "      <td>NaN</td>\n",
       "      <td>NaN</td>\n",
       "      <td>NaN</td>\n",
       "      <td>NaN</td>\n",
       "    </tr>\n",
       "    <tr>\n",
       "      <th>2014-12-30</th>\n",
       "      <td>0.012796</td>\n",
       "      <td>0.014407</td>\n",
       "      <td>0.011886</td>\n",
       "      <td>0.010588</td>\n",
       "      <td>0.014552</td>\n",
       "    </tr>\n",
       "    <tr>\n",
       "      <th>2014-12-29</th>\n",
       "      <td>0.002310</td>\n",
       "      <td>0.002598</td>\n",
       "      <td>0.005112</td>\n",
       "      <td>-0.001699</td>\n",
       "      <td>0.000864</td>\n",
       "    </tr>\n",
       "    <tr>\n",
       "      <th>2014-12-26</th>\n",
       "      <td>0.002271</td>\n",
       "      <td>0.008861</td>\n",
       "      <td>0.003067</td>\n",
       "      <td>0.003089</td>\n",
       "      <td>0.001832</td>\n",
       "    </tr>\n",
       "    <tr>\n",
       "      <th>2014-12-24</th>\n",
       "      <td>-0.000469</td>\n",
       "      <td>-0.003420</td>\n",
       "      <td>0.001895</td>\n",
       "      <td>-0.005495</td>\n",
       "      <td>-0.006210</td>\n",
       "    </tr>\n",
       "    <tr>\n",
       "      <th>...</th>\n",
       "      <td>...</td>\n",
       "      <td>...</td>\n",
       "      <td>...</td>\n",
       "      <td>...</td>\n",
       "      <td>...</td>\n",
       "    </tr>\n",
       "    <tr>\n",
       "      <th>1995-01-09</th>\n",
       "      <td>0.009904</td>\n",
       "      <td>-0.012345</td>\n",
       "      <td>-0.007167</td>\n",
       "      <td>0.017351</td>\n",
       "      <td>-0.003325</td>\n",
       "    </tr>\n",
       "    <tr>\n",
       "      <th>1995-01-06</th>\n",
       "      <td>0.015293</td>\n",
       "      <td>0.004908</td>\n",
       "      <td>0.009638</td>\n",
       "      <td>0.005786</td>\n",
       "      <td>0.003336</td>\n",
       "    </tr>\n",
       "    <tr>\n",
       "      <th>1995-01-05</th>\n",
       "      <td>0.000000</td>\n",
       "      <td>-0.003044</td>\n",
       "      <td>0.004655</td>\n",
       "      <td>-0.005753</td>\n",
       "      <td>0.000000</td>\n",
       "    </tr>\n",
       "    <tr>\n",
       "      <th>1995-01-04</th>\n",
       "      <td>0.004762</td>\n",
       "      <td>0.014790</td>\n",
       "      <td>-0.002346</td>\n",
       "      <td>-0.011232</td>\n",
       "      <td>-0.015359</td>\n",
       "    </tr>\n",
       "    <tr>\n",
       "      <th>1995-01-03</th>\n",
       "      <td>0.022162</td>\n",
       "      <td>0.008381</td>\n",
       "      <td>0.000000</td>\n",
       "      <td>-0.034632</td>\n",
       "      <td>0.005596</td>\n",
       "    </tr>\n",
       "  </tbody>\n",
       "</table>\n",
       "<p>5035 rows × 5 columns</p>\n",
       "</div>"
      ],
      "text/plain": [
       "                  KO        PG        GE       WMT         T\n",
       "Date                                                        \n",
       "2014-12-31       NaN       NaN       NaN       NaN       NaN\n",
       "2014-12-30  0.012796  0.014407  0.011886  0.010588  0.014552\n",
       "2014-12-29  0.002310  0.002598  0.005112 -0.001699  0.000864\n",
       "2014-12-26  0.002271  0.008861  0.003067  0.003089  0.001832\n",
       "2014-12-24 -0.000469 -0.003420  0.001895 -0.005495 -0.006210\n",
       "...              ...       ...       ...       ...       ...\n",
       "1995-01-09  0.009904 -0.012345 -0.007167  0.017351 -0.003325\n",
       "1995-01-06  0.015293  0.004908  0.009638  0.005786  0.003336\n",
       "1995-01-05  0.000000 -0.003044  0.004655 -0.005753  0.000000\n",
       "1995-01-04  0.004762  0.014790 -0.002346 -0.011232 -0.015359\n",
       "1995-01-03  0.022162  0.008381  0.000000 -0.034632  0.005596\n",
       "\n",
       "[5035 rows x 5 columns]"
      ]
     },
     "execution_count": 19,
     "metadata": {},
     "output_type": "execute_result"
    }
   ],
   "source": [
    "# get portfolio returns\n",
    "portfolio_simple_return"
   ]
  },
  {
   "cell_type": "code",
   "execution_count": 20,
   "id": "b0d765e7",
   "metadata": {},
   "outputs": [],
   "source": [
    "# assign weights for each security respective to postion in \"tickers\" list\n",
    "weights = np.array([0.1, 0.1, 0.1, 0.4, 0.3])"
   ]
  },
  {
   "cell_type": "code",
   "execution_count": 21,
   "id": "16406524",
   "metadata": {},
   "outputs": [],
   "source": [
    "# get portfolio covariance using numpy.dot() method\n",
    "portfolio_covar = np.dot(weights, np.dot(portfolio_simple_return.cov() * 250, weights))"
   ]
  },
  {
   "cell_type": "code",
   "execution_count": 22,
   "id": "0012bdab",
   "metadata": {},
   "outputs": [
    {
     "name": "stdout",
     "output_type": "stream",
     "text": [
      "Portfolio: ['KO', 'PG', 'GE', 'WMT', 'T'] | Variance: 3.768 %\n"
     ]
    }
   ],
   "source": [
    "# print results\n",
    "print(f'Portfolio: {tickers} | Variance: {str(round(portfolio_covar, 5) * 100)} %')"
   ]
  },
  {
   "cell_type": "markdown",
   "id": "13f60abe",
   "metadata": {},
   "source": [
    "##### Covariance for Portfolio - Analysis\n",
    "\n",
    "<p>The variance for the given portfolio between the years 1995 and 2015 is <i>3.768%</i>.\n",
    "\n",
    "<p>The portfolio is comprised of Coca-Cola (10%), Proctor & Gamble (10%), General Electric (10%), Wal-Mart (40%), and AT&T (30%)."
   ]
  },
  {
   "cell_type": "markdown",
   "id": "a94f1296",
   "metadata": {},
   "source": [
    "# Overall Analysis\n",
    "<p>Given this analysis, the single stock of Coca-Cola was a consistent but low performing stock. The variance for the closing prices was low (<i>5.75%</i>) meaning very few large price jumps. However, its slightly low simple rate of return (<i>-3.73%</i>) suggest a decrease in its value.\n",
    "\n",
    "<p>The portfolio is comprised of Coca-Cola (10%), Proctor & Gamble (10%), General Electric (10%), Wal-Mart (40%), and AT&T (30%). Its simple rate of return is underperforming (<i>-4.979%</i>) while its covariance is positive but small (<i> 3.768% </i>). \n",
    "<br>\n",
    "<p>In conclusion, better performance from this portfolio can be obtained through a different mix of stocks (preferably from more diverse industries) and/or a different spread of weights for the portfolio - determined from a positive covariance. And if Coca-Cola remains in this portfolio, then its poor performance must be supplemented with a better stock and/or a change in weight within the portfolio."
   ]
  },
  {
   "cell_type": "code",
   "execution_count": null,
   "id": "cc2631f1",
   "metadata": {},
   "outputs": [],
   "source": []
  }
 ],
 "metadata": {
  "kernelspec": {
   "display_name": "Python 3 (ipykernel)",
   "language": "python",
   "name": "python3"
  },
  "language_info": {
   "codemirror_mode": {
    "name": "ipython",
    "version": 3
   },
   "file_extension": ".py",
   "mimetype": "text/x-python",
   "name": "python",
   "nbconvert_exporter": "python",
   "pygments_lexer": "ipython3",
   "version": "3.9.12"
  }
 },
 "nbformat": 4,
 "nbformat_minor": 5
}
